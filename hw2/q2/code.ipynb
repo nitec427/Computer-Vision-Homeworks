{
 "cells": [
  {
   "cell_type": "code",
   "execution_count": null,
   "metadata": {},
   "outputs": [],
   "source": [
    "import pickle\n",
    "import matplotlib.pyplot as plt\n",
    "import torch\n",
    "import cv2\n",
    "import numpy as np\n",
    "\n",
    "with open (\"stylegan3-t-ffhq-1024x1024.pkl\", \"rb\") as f:\n",
    "    a = pickle.load(f)\n",
    "#Unpack the GAN network downloaded from the official NVIDIA website.\n",
    "gan = a[\"G_ema\"]\n",
    "#StyleGAN contains both the Generator and the Discriminator. We only need\n",
    "#the Generator to generate the images.\n",
    "gan.eval()\n",
    "#In PyTorch, every network has to be set as 'train' or 'eval'. To evaluate\n",
    "#an input via the network, we should set it as eval.\n",
    "for param in gan.parameters():\n",
    "    param.requires_grad = False\n",
    "#When training the network, the parameter change is done via the gradients.\n",
    "#Setting that none of the parameters need gradients will speed up our\n",
    "#process.\n",
    "z1 = torch.randn(1, 512)\n",
    "\n",
    "# The StyleGAN generator takes a vector of size (512) to generate an image.\n",
    "img1 = gan(z1, 0).numpy().squeeze()\n",
    "print(\"img 1 created\")\n",
    "\n",
    "print(\"img 2 created\")\n",
    "#Obtain the image from the generator.\n",
    "img1 = np.transpose(img1, (1,2,0))\n",
    "\n",
    "\n",
    "#Initially, the output of the network is like (RGB Channel, Width, Height).\n",
    "#We should change the order of the channels to make it look like an OpenCV image.\n",
    "img1[img1 > 1] = 1\n",
    "img1[img1 < -1] = -1\n",
    "img1 = 255*(img1 + 1) / 2\n",
    "\n",
    "\n",
    "#The network outputs images with float values, centered at zero. Thus, we\n",
    "#should make the values between [0 - 255).\n",
    "\n",
    "cv2.imwrite('test1.png', img1[:,:,[2,1,0]])\n",
    "cv2.imwrite('test2.png', img2[:,:,[2,1,0]])\n",
    "z2 = torch.randn(1, 512)\n",
    "img2 = gan(z2, 0).numpy().squeeze()\n",
    "img2 = np.transpose(img2, (1,2,0))\n",
    "img2[img2 > 1] = 1\n",
    "img2[img2 < -1] = -1\n",
    "img2 = 255*(img2 + 1) / 2\n",
    "steps = np.linspace(0,1,51,endpoint=True)\n",
    "print(steps)\n",
    "images_list = []\n",
    "# Part2\n",
    "for t in steps:\n",
    "    new_z = (1-t) * z1 + t * z2 # Morph the images according to the formula given in the lecture\n",
    "    new_img = gan(new_z, 0).numpy().squeeze() #Create new image with this average\n",
    "    new_img = np.transpose(new_img, (1,2,0)) #rectify as you did previously\n",
    "    new_img[new_img > 1] = 1\n",
    "    new_img[new_img < -1] = -1\n",
    "    new_img = 255*(new_img + 1) / 2\n",
    "    images_list.append(new_img) #add to list to make a video"
   ]
  },
  {
   "cell_type": "code",
   "execution_count": null,
   "metadata": {},
   "outputs": [],
   "source": [
    "import moviepy.editor as mpy\n",
    "clip = mpy.ImageSequenceClip(images_list, fps=25)\n",
    "clip.write_videofile(\"output.mp4\", codec = \"libx264\")"
   ]
  },
  {
   "cell_type": "code",
   "execution_count": null,
   "metadata": {},
   "outputs": [],
   "source": []
  }
 ],
 "metadata": {
  "kernelspec": {
   "display_name": "Python 3",
   "language": "python",
   "name": "python3"
  },
  "language_info": {
   "codemirror_mode": {
    "name": "ipython",
    "version": 3
   },
   "file_extension": ".py",
   "mimetype": "text/x-python",
   "name": "python",
   "nbconvert_exporter": "python",
   "pygments_lexer": "ipython3",
   "version": "3.8.6"
  }
 },
 "nbformat": 4,
 "nbformat_minor": 4
}
